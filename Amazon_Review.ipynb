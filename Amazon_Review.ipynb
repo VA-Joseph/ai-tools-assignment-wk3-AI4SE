{
  "nbformat": 4,
  "nbformat_minor": 0,
  "metadata": {
    "colab": {
      "provenance": []
    },
    "kernelspec": {
      "name": "python3",
      "display_name": "Python 3"
    },
    "language_info": {
      "name": "python"
    }
  },
  "cells": [
    {
      "cell_type": "code",
      "execution_count": 4,
      "metadata": {
        "colab": {
          "base_uri": "https://localhost:8080/"
        },
        "id": "CilQLFHJ99IW",
        "outputId": "0db4141d-623b-4eac-e202-23afe0bfa6df"
      },
      "outputs": [
        {
          "output_type": "stream",
          "name": "stdout",
          "text": [
            "\n",
            "🔎 Review: I love my new Samsung Galaxy S21! The camera quality is amazing.\n",
            "🧠 Named Entities (Brand/Product): [('Samsung Galaxy S21', 'ORG')]\n",
            "💬 Sentiment: Positive\n",
            "\n",
            "🔎 Review: The Apple iPhone 13 is overpriced and not much better than the previous version.\n",
            "🧠 Named Entities (Brand/Product): [('Apple', 'ORG')]\n",
            "💬 Sentiment: Negative\n",
            "\n",
            "🔎 Review: My Sony headphones broke after one week. Terrible build quality!\n",
            "🧠 Named Entities (Brand/Product): [('Sony', 'ORG')]\n",
            "💬 Sentiment: Negative\n",
            "\n",
            "🔎 Review: Dell XPS 13 is a powerful machine. Great for students and professionals.\n",
            "🧠 Named Entities (Brand/Product): []\n",
            "💬 Sentiment: Positive\n",
            "\n",
            "🔎 Review: Got the JBL Flip 5 – loud and crystal clear sound. Totally worth it!\n",
            "🧠 Named Entities (Brand/Product): []\n",
            "💬 Sentiment: Positive\n"
          ]
        }
      ],
      "source": [
        "import spacy\n",
        "from textblob import TextBlob\n",
        "nlp = spacy.load(\"en_core_web_sm\")\n",
        "reviews = [\n",
        "    \"I love my new Samsung Galaxy S21! The camera quality is amazing.\",\n",
        "    \"The Apple iPhone 13 is overpriced and not much better than the previous version.\",\n",
        "    \"My Sony headphones broke after one week. Terrible build quality!\",\n",
        "    \"Dell XPS 13 is a powerful machine. Great for students and professionals.\",\n",
        "    \"Got the JBL Flip 5 – loud and crystal clear sound. Totally worth it!\"\n",
        "]\n",
        "for review in reviews:\n",
        "    print(f\"\\n🔎 Review: {review}\")\n",
        "\n",
        "    # --- Named Entity Recognition ---\n",
        "    doc = nlp(review)\n",
        "    entities = [(ent.text, ent.label_) for ent in doc.ents if ent.label_ in [\"ORG\", \"PRODUCT\"]]\n",
        "    print(\"🧠 Named Entities (Brand/Product):\", entities)\n",
        "\n",
        "    # --- Sentiment Analysis ---\n",
        "    blob = TextBlob(review)\n",
        "    polarity = blob.sentiment.polarity\n",
        "    sentiment = \"Positive\" if polarity > 0 else \"Negative\" if polarity < 0 else \"Neutral\"\n",
        "    print(\"💬 Sentiment:\", sentiment)"
      ]
    }
  ]
}